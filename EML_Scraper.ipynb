{
 "cells": [
  {
   "cell_type": "code",
   "execution_count": 2,
   "id": "8dbc18a3-02ab-42e7-aa66-409c4f21a951",
   "metadata": {},
   "outputs": [],
   "source": [
    "# Web Scraper for https://global.essentialmeds.org/dashboard/countries/\n",
    "# Created by James Hu with ChatGPT; Rethink Priorities, 2023\n",
    "\n",
    "from selenium import webdriver\n",
    "from selenium.webdriver.common.by import By\n",
    "from selenium.webdriver.firefox.options import Options\n",
    "from selenium.webdriver.support.ui import WebDriverWait\n",
    "from selenium.webdriver.support import expected_conditions as EC\n",
    "import time\n",
    "from bs4 import BeautifulSoup\n",
    "\n",
    "# Set up headless Firefox options\n",
    "options = Options()\n",
    "options.add_argument('-headless')\n",
    "options.add_argument('--disable-notifications')\n",
    "options.add_argument('--no-sandbox')\n",
    "options.add_argument('--verbose')\n",
    "\n",
    "# Initialize constants and dictionaries\n",
    "NUM_COUNTRIES = 137\n",
    "SCROLL_HEIGHT = 38\n",
    "country_to_consistencies = {}\n",
    "country_to_differences = {}\n",
    "\n",
    "# Generate list of URLs to be scraped\n",
    "urls = []\n",
    "\n",
    "for n in range(1,NUM_COUNTRIES+1):\n",
    "    url = 'https://global.essentialmeds.org/dashboard/countries/' + str(n)\n",
    "    urls.append(url)"
   ]
  },
  {
   "cell_type": "code",
   "execution_count": 3,
   "id": "8664374c-2a6a-49fe-bd70-f47474f84ed4",
   "metadata": {},
   "outputs": [
    {
     "ename": "KeyboardInterrupt",
     "evalue": "",
     "output_type": "error",
     "traceback": [
      "\u001b[0;31m---------------------------------------------------------------------------\u001b[0m",
      "\u001b[0;31mKeyboardInterrupt\u001b[0m                         Traceback (most recent call last)",
      "\u001b[0;32m/var/folders/64/lf1k04zn3hgc5j8fn640g_n80000gn/T/ipykernel_50059/2956945659.py\u001b[0m in \u001b[0;36m<module>\u001b[0;34m\u001b[0m\n\u001b[1;32m     20\u001b[0m         \u001b[0mdriver\u001b[0m\u001b[0;34m.\u001b[0m\u001b[0mexecute_script\u001b[0m\u001b[0;34m(\u001b[0m\u001b[0;34mf\"arguments[0].scrollTop = {scroll_position};\"\u001b[0m\u001b[0;34m,\u001b[0m \u001b[0mscrollable_element\u001b[0m\u001b[0;34m)\u001b[0m\u001b[0;34m\u001b[0m\u001b[0;34m\u001b[0m\u001b[0m\n\u001b[1;32m     21\u001b[0m         \u001b[0mscroll_position\u001b[0m \u001b[0;34m+=\u001b[0m \u001b[0mscroll_step\u001b[0m\u001b[0;34m\u001b[0m\u001b[0;34m\u001b[0m\u001b[0m\n\u001b[0;32m---> 22\u001b[0;31m         \u001b[0mtime\u001b[0m\u001b[0;34m.\u001b[0m\u001b[0msleep\u001b[0m\u001b[0;34m(\u001b[0m\u001b[0;36m0.2\u001b[0m\u001b[0;34m)\u001b[0m\u001b[0;34m\u001b[0m\u001b[0;34m\u001b[0m\u001b[0m\n\u001b[0m\u001b[1;32m     23\u001b[0m \u001b[0;34m\u001b[0m\u001b[0m\n\u001b[1;32m     24\u001b[0m         \u001b[0;31m# Get the page source after scrolling\u001b[0m\u001b[0;34m\u001b[0m\u001b[0;34m\u001b[0m\u001b[0m\n",
      "\u001b[0;31mKeyboardInterrupt\u001b[0m: "
     ]
    }
   ],
   "source": [
    "# Start the browser\n",
    "driver = webdriver.Firefox(options=options)\n",
    "wait = WebDriverWait(driver, 10)  # Initialize wait object\n",
    "\n",
    "for url in urls:\n",
    "    # ITEMS CONSISTENT WITH WORLD HEALTH ORGANIZATION LIST\n",
    "    # Open the webpage\n",
    "    driver.get(url)\n",
    "    \n",
    "    # Locate the scrollable element\n",
    "    scrollable_element = wait.until(EC.presence_of_element_located((By.CSS_SELECTOR, '.css-o6nvc9 > div:nth-child(2)')))\n",
    "\n",
    "    # Scroll through the internal scrollable element to load all products\n",
    "    scroll_step = SCROLL_HEIGHT*10  # Set the scroll_step equal to the height of 10 product elements\n",
    "    scroll_position = 0\n",
    "    consistencies = set()\n",
    "\n",
    "    while True:\n",
    "        # Scroll down\n",
    "        driver.execute_script(f\"arguments[0].scrollTop = {scroll_position};\", scrollable_element)\n",
    "        scroll_position += scroll_step\n",
    "        time.sleep(0.2)\n",
    "\n",
    "        # Get the page source after scrolling\n",
    "        html = driver.page_source\n",
    "\n",
    "        # Use BeautifulSoup to parse and extract the data\n",
    "        soup = BeautifulSoup(html, 'html.parser')\n",
    "        product_list = soup.select('.css-t9ct1g')\n",
    "\n",
    "        # Add visible products to the consistencies set\n",
    "        current_product_count = len(consistencies)\n",
    "        for product in product_list:\n",
    "            consistencies.add(product.text.strip())\n",
    "\n",
    "        # Break the loop if the product count doesn't change after scrolling\n",
    "        if len(consistencies) == current_product_count:\n",
    "            break\n",
    "\n",
    "    country = soup.select('.css-147a4oj > h4:nth-child(1)')[0].text.strip()\n",
    "    country_to_consistencies[country] = consistencies\n",
    "        \n",
    "    # ITEMS DIFFERENT FROM WORLD HEALTH ORGANIZATION LIST\n",
    "    # Click the \"Differences with the WHO list\" button\n",
    "    element_to_click = wait.until(EC.element_to_be_clickable((By.XPATH, '/html/body/div/div/div[1]/div[2]/div[3]/div[1]/div[2]')))\n",
    "    element_to_click.click()\n",
    "    time.sleep(0.2)\n",
    "\n",
    "    # Locate the scrollable element\n",
    "    scrollable_element = wait.until(EC.presence_of_element_located((By.CSS_SELECTOR, '.css-o6nvc9 > div:nth-child(2)')))\n",
    "\n",
    "    # Scroll through the internal scrollable element to load all products\n",
    "    scroll_step = SCROLL_HEIGHT*10  # Set the scroll_step equal to the height of 10 product elements\n",
    "    scroll_position = 0\n",
    "    differences = set()\n",
    "    \n",
    "    while True:\n",
    "        # Scroll down\n",
    "        \n",
    "        driver.execute_script(f\"arguments[0].scrollTop = {scroll_position};\", scrollable_element)\n",
    "        \n",
    "        scroll_position += scroll_step\n",
    "        time.sleep(0.2)\n",
    "\n",
    "        # Get the page source after scrolling\n",
    "        html = driver.page_source\n",
    "\n",
    "        # Use BeautifulSoup to parse and extract the data\n",
    "        soup = BeautifulSoup(html, 'html.parser')\n",
    "        product_list = soup.select('.css-t9ct1g')\n",
    "\n",
    "        # Add visible products to the differences set\n",
    "        current_product_count = len(differences)\n",
    "        for product in product_list:\n",
    "            differences.add(product.text.strip())\n",
    "\n",
    "        # Break the loop if the product count doesn't change after scrolling\n",
    "        if len(differences) == current_product_count:\n",
    "            break\n",
    "\n",
    "    country_to_differences[country] = differences\n",
    "\n",
    "# Close the browser  \n",
    "driver.quit()"
   ]
  },
  {
   "cell_type": "code",
   "execution_count": 56,
   "id": "a4a33e34-387a-431b-868d-6abed83e5959",
   "metadata": {},
   "outputs": [],
   "source": [
    "import pandas as pd\n",
    "\n",
    "# Create a set for the WHO EML\n",
    "who_eml = set.union(*country_to_consistencies.values())\n",
    "\n",
    "# Combine the dictionaries\n",
    "all_products = {}\n",
    "for country, products in country_to_consistencies.items():\n",
    "    all_products[country] = products | country_to_differences[country]\n",
    "\n",
    "# Add the WHO EML column\n",
    "all_products[\"WHO EML\"] = who_eml\n",
    "\n",
    "# Create a list of all unique products and sort it alphabetically\n",
    "unique_products = sorted(set.union(who_eml, *country_to_differences.values()))\n",
    "\n",
    "# Create an empty DataFrame with the desired column order\n",
    "sorted_countries = sorted(col for col in all_products.keys() if col != \"WHO EML\")\n",
    "columns = [\"Product\", \"WHO EML\"] + sorted_countries\n",
    "df = pd.DataFrame(columns=columns)\n",
    "\n",
    "# Fill the DataFrame\n",
    "for product in unique_products:\n",
    "    row_data = {col: int(product in product_set) for col, product_set in all_products.items()}\n",
    "    row_data[\"Product\"] = product\n",
    "    row = pd.Series(row_data, name=product)\n",
    "    df = df.append(row)\n",
    "\n",
    "# Reset the index\n",
    "df.reset_index(drop=True, inplace=True)\n",
    "\n",
    "# Export DataFrame to an Excel file\n",
    "df.to_excel(\"products_eml.xlsx\", index=False)"
   ]
  },
  {
   "cell_type": "code",
   "execution_count": 11,
   "id": "1120a9ba-86a0-4c83-96eb-4f049e8af206",
   "metadata": {},
   "outputs": [],
   "source": [
    "# Analysis (DataFrame reimported from Excel)\n",
    "\n",
    "import pandas as pd\n",
    "\n",
    "# Read the Excel file\n",
    "file_path = 'products_eml.xlsx'\n",
    "data = pd.read_excel(file_path, engine='openpyxl')"
   ]
  },
  {
   "cell_type": "code",
   "execution_count": 12,
   "id": "b1f6737f-56e7-449e-90aa-40493c337e3a",
   "metadata": {},
   "outputs": [],
   "source": [
    "# Replace 'Product' and 'WHO_EML' with the appropriate column names in your DataFrame\n",
    "product_column = 'Product'\n",
    "who_eml_column = 'WHO EML'\n",
    "\n",
    "# Filter out products on the WHO EML\n",
    "filtered_data = data[data[who_eml_column] != 1]\n",
    "\n",
    "# Identify country columns by excluding the product column and the WHO EML column\n",
    "country_columns = [col for col in filtered_data.columns if col not in (product_column, who_eml_column)]\n",
    "\n",
    "# Combine all country columns into a single DataFrame, keeping the product names\n",
    "all_products = filtered_data.melt(id_vars=product_column, value_vars=country_columns, var_name='Country', value_name='Included')\n",
    "all_products = all_products[all_products['Included'] == 1]\n",
    "\n",
    "# Count the occurrences of each product and sort by count in descending order\n",
    "product_counts = all_products[product_column].value_counts().reset_index()\n",
    "product_counts.columns = ['Product', 'Count']\n",
    "sorted_products = product_counts.sort_values('Count', ascending=False)\n",
    "\n",
    "# Export sorted_products to an Excel file\n",
    "output_file_path = 'non-WHO_products_by_freq_on_NEMLs.xlsx'\n",
    "sorted_products.to_excel(output_file_path, index=False, engine='openpyxl')"
   ]
  },
  {
   "cell_type": "code",
   "execution_count": 14,
   "id": "80a6f5d8-4046-40d1-b930-be91e5aa9d6c",
   "metadata": {},
   "outputs": [
    {
     "name": "stdout",
     "output_type": "stream",
     "text": [
      "Is 'Glibenclamide (Glyburide)' not on the WHO EML? True\n"
     ]
    }
   ],
   "source": [
    "to_check = 'Glibenclamide (Glyburide)'\n",
    "product_row = data[data[product_column] == to_check]\n",
    "is_not_on_eml = product_row[who_eml_column].iloc[0] == 0\n",
    "\n",
    "print(f\"Is '{to_check}' not on the WHO EML? {is_not_on_eml}\")"
   ]
  },
  {
   "cell_type": "code",
   "execution_count": 28,
   "id": "5b695bcc-a5e8-44da-a320-8d845d493915",
   "metadata": {
    "collapsed": true,
    "jupyter": {
     "outputs_hidden": true
    },
    "tags": []
   },
   "outputs": [
    {
     "name": "stdout",
     "output_type": "stream",
     "text": [
      "{'4-dimethylaminophenol': False, 'Abacavir': True, 'Abatacept': False, 'Abciximab': False, 'Abiraterone Acetate': False, 'Acamprosate': False, 'Acarbose': False, 'Acebutolol': False, 'Aceclidine': False, 'Aceclofenac': False, 'Acefylline heptaminol': False, 'Acemetacin': False, 'Acenocoumarol': False, 'Acetazolamide': True, 'Acetylcholine': False, 'Acetylcysteine': True, 'Acetylleucine': False, 'Acetylsalicylic acid': True, 'Acitretin': False, 'Acrivastine': False, 'Activated charcoal': True, 'Acyclovir': True, 'Adalimumab': False, 'Adapalene': False, 'Adefovir': False, 'Ademetionine': False, 'Adenoprosin': False, 'Adenosine': False, 'Adrenalone': False, 'Aescin': False, 'Agalsidase': False, 'Agomelatine': False, 'Albendazole': True, 'Albumin': False, 'Alcaftadine': False, 'Alclometasone': False, 'Alcuronium': False, 'Alemtuzumab': False, 'Alendronic Acid (Alendronate)': False, 'Alfentanil': False, 'Alfuzosin': False, 'Alglucosidase': False, 'Alimemazine': False, 'Aliskiren': False, 'Alizapride': False, 'Allopurinol': True, 'Allylestrenol': False, 'Almitrine': False, 'Almotriptan': False, 'Alosetron': False, 'Alprazolam': False, 'Alprenolol': False, 'Alprostadil': False, 'Alteplase': False, 'Altizide': False, 'Aluminium': False, 'Alverine': False, 'Amantadine': False, 'Ambenonium': False, 'Ambrisentan': False, 'Ambroxol': False, 'Amcinonide': False, 'Amifampridine': False, 'Amifostine': False, 'Amikacin': True, 'Amiloride': True, 'Amineptine': False, 'Amino acids': False, 'Aminobenzoic acid': False, 'Aminocaproic acid': False, 'Aminoglutethimide': False, 'Aminomethylbenzoic acid': False, 'Aminophylline': False, 'Amiodarone': True, 'Amisulpride': False, 'Amitriptyline': True, 'Amlexanox': False, 'Amlodipine': True, 'Ammidin': False, 'Ammonium': False, 'Amodiaquine': True, 'Amorolfine': False, 'Amoxicillin': True, 'Amphotericin B': True, 'Ampicillin': True, 'Amprenavir': False, 'Amrinone': False, 'Amsacrine': False, 'Amyl Nitrite': False, 'Amylmetacresol': False, 'Anagrelide': False, 'Anakinra': False, 'Anastrozole': True, 'Anethole trithione': False, 'Anisodamine': False, 'Antazoline': False, 'Anthrax immunoglobulin': False, 'Anthrax vaccine': False, 'Anti-D immunoglobulin (Rho)': True, 'Anti-crotalic serum': False, 'Anti-hemophilic solution': False, 'Anti-hemorrhoidal': False, 'Anti-human globulin': False, 'Anti-scorpion serum': False, 'Anti-sera': False, 'Anti-snake serum': False, 'Anti-spider serum': False, 'Anti-venom': True, 'Anticoagulant Citrate Dextrose Solution': False, 'Antilymphocyte immunoglobulin': False, 'Antiprotease': False, 'Antithrombin': False, 'Antithymocyte immunoglobulin': False, 'Apixaban': False, 'Apomorphine': False, 'Apraclonidine': False, 'Aprepitant': False, 'Aprotinin': False, 'Arachis oil': False, 'Arginine': False, 'Aripiprazole': False, 'Arsenic': False, 'Artemether': True, 'Artemisinin': False, 'Artenimol (Dihydroartemisinin)': True, 'Artesunate': True, 'Articaine': False, 'Artificial saliva': False, 'Artificial tears': False, 'Asenapine': False, 'Asparaginase': True, 'Aspartic acid (Aspartate)': False, 'Astemizole': False, 'Asunaprevir': False, 'Atazanavir': True, 'Atenolol': True, 'Atomoxetine': False, 'Atorvastatin': False, 'Atosiban': False, 'Atovaquone': False, 'Atracurium': True, 'Atropine': True, 'Attapulgite': False, 'Auranofin': False, 'Azacitidine': False, 'Azapentacene': False, 'Azatadine': False, 'Azathioprine': True, 'Azelaic acid': False, 'Azelastine': False, 'Azidamfenicol': False, 'Azithromycin': True, 'Azoximer bromide': False, 'Aztreonam': True, 'B-arbutin': False, 'BCG vaccine': True, 'Bacillus clausii': False, 'Bacillus subtilis': False, 'Bacitracin': False, 'Baclofen': False, 'Bacterial lysate vaccine': False, 'Balsalazide': False, 'Bambuterol': False, 'Bamipine': False, 'Basiliximab': False, 'Beclometasone (Beclomethasone)': True, 'Bedaquiline': True, 'Belimumab': False, 'Belladonna tincture': False, 'Bemiparin': False, 'Benazepril': False, 'Bendamustine': True, 'Bendazac lysine': False, 'Bendrofluazide': False, 'Benfluorex': False, 'Benoxinate': False, 'Benserazide': False, 'Bentonite': False, 'Benzatropine (Benztropine)': False, 'Benzbromarone': False, 'Benznidazole': True, 'Benzobarbital': False, 'Benzocaine': False, 'Benzoic acid': False, 'Benzoin compound': False, 'Benzonatate': False, 'Benzoyl peroxide': True, 'Benzydamine': False, 'Benzyl benzoate': True, 'Benzylpenicillin (Penicillin G)': True, 'Benzylthiouracil': False, 'Bephenium Hydroxynaphthoate': False, 'Beractant': False, 'Berberine': False, 'Beta sitosterol': False, 'Betacarotene (Beta carotene)': False, 'Betahistine': False, 'Betaine': False, 'Betamethasone': True, 'Betaxolol': False, 'Bethanechol': False, 'Bevacizumab': True, 'Bevantolol': False, 'Bexarotene': False, 'Bezafibrate': False, 'Bicalutamide': True, 'Bifendate': False, 'Bifonazole': False, 'Bilastine': False, 'Bimatoprost': False, 'Bioallethrin (Depallethrine)': False, 'Biperiden': True, 'Bisacodyl': False, 'Bismuth': False, 'Bisoprolol': True, 'Bivalirudin': False, 'Bleomycin': True, 'Boceprevir': False, 'Bopindolol': False, 'Borax (Sodium borate)': False, 'Boric acid': False, 'Borneol': False, 'Boron': False, 'Bortezomib': False, 'Bosentan': False, 'Botropic serum': False, 'Botulinum antitoxin': False, 'Botulinum toxin (Botox)': False, 'Bovactant': False, 'Bretylium': False, 'Brimonidine': False, 'Brinzolamide': False, 'Brivudine': False, 'Bromazepam': False, 'Bromelain': False, 'Bromfenac': False, 'Bromhexine': False, 'Bromocriptine': False, 'Bromopride': False, 'Brompheniramine': False, 'Bucinnazine': False, 'Budesonide': True, 'Bufexamac': False, 'Buflomedil': False, 'Buformin': False, 'Bumetanide': False, 'Bupivacaine': True, 'Bupranolol': False, 'Buprenorphine': True, 'Bupropion': False, 'Buserelin': False, 'Buspirone': False, 'Busulfan': False, 'Butalbital': False, 'Butamirate': False, 'Butanilicaine': False, 'Butenafine': False, 'Butoconazole': False, 'Butoform (Butamben, Butoforme)': False, 'Butorphanol': False, 'Butylscopolamine (Hyoscine butylbromide, Scopolamine butylbromide)': True, 'Cabergoline': False, 'Cade oil': False, 'Caffeine': True, 'Calamine': True, 'Calcipotriol': False, 'Calcitonin': False, 'Calcium': True, 'Calcium folinate (Folinic acid, Levoleucovorin, leucovorin)': True, 'Calcium sodium edetate': True, 'Camphene': False, 'Camphora (Camphor)': False, 'Canakinumab': False, 'Candesartan': False, 'Capecitabine': True, 'Capreomycin': True, 'Capsaicin': False, 'Captodiame (Captodiamine)': False, 'Captopril': False, 'Carbachol': False, 'Carbamazepine': True, 'Carbamide (Urea)': True, 'Carbamide peroxide': False, 'Carbazochrome': False, 'Carbenicillin': False, 'Carbenoxolone': False, 'Carbetocin': False, 'Carbidopa': True, 'Carbimazole': False, 'Carbo glycerin': False, 'Carbocisteine (Carbocysteine, Carboxymethylcysteine)': False, 'Carbonic anhydrase inhibitor': False, 'Carboplatin': True, 'Carboprost': False, 'Carboxymethyl cellulose': False, 'Carbutamide': False, 'Carglumic acid': False, 'Carisoprodol': False, 'Carmustine': False, 'Carrageenan': False, 'Carteolol': False, 'Carvedilol': True, 'Cascara Sagrada': False, 'Caspofungin': False, 'Cassia italica': False, 'Castor oil': False, 'Catalase': False, 'Catridecacog': False, 'Cefaclor': False, 'Cefadroxil': False, 'Cefalexin (Cephalexin)': True, 'Cefalotin (Cephalothin)': False, 'Cefamandole': False, 'Cefapirin': False, 'Cefatrizine': False, 'Cefazolin': True, 'Cefdinir': False, 'Cefditoren': False, 'Cefepime': True, 'Cefetamet': False, 'Cefixime': True, 'Cefmetazole': False, 'Cefonicid': False, 'Cefoperazone': False, 'Cefotaxime': True, 'Cefotetan': False, 'Cefotiam': False, 'Cefoxitin': False, 'Cefpodoxime': False, 'Cefpriome (Cefpirome)': False, 'Cefprozil': False, 'Cefradine (Cephradine)': False, 'Ceftaroline': True, 'Ceftazidime': True, 'Ceftezole': False, 'Ceftibutin': False, 'Ceftizoxim': False, 'Ceftriaxone': True, 'Cefuroxime': False, 'Celecoxib': False, 'Celiprolol': False, 'Cellulase': False, 'Cerebrolysin': False, 'Certolizumab': False, 'Cetalkonium chloride': False, 'Cetirizine': False, 'Cetrimide': False, 'Cetrorelix': False, 'Cetuximab': False, 'Cetylpyridinium': False, 'Chamomile': False, 'Chenodeoxycholic acid': False, 'Chitosan': False, 'Chloral hydrate': False, 'Chlorambucil': True, 'Chloramine': False, 'Chloramphenicol': True, 'Chlordiazepoxide': False, 'Chlorhexidine': True, 'Chlormadinone': False, 'Chlormethine (Mechlorethamine, Mustine)': False, 'Chlormezanone': False, 'Chloroacetic acid': False, 'Chlorobutanol': False, 'Chloroform': False, 'Chloropyramine': False, 'Chloroquine': True, 'Chlorothiazide': False, 'Chloroxylenol': True, 'Chlorphenamine (Chlorpheniramine)': False, 'Chlorphenoxamine': False, 'Chlorpromazine': True, 'Chlorpropamide': False, 'Chlorprothixene': False, 'Chlorquinaldol': False, 'Chlortalidone (Chlorthalidone)': False, 'Chlortetracycline': False, 'Chlorzoxazone': False, 'Cholera vaccine': True, 'Choline': False, 'Choline alfoscerate': False, 'Choline bitartrate': False, 'Choline hydro tartrate': False, 'Cholinesterase': False, 'Chondroitin sulfate': False, 'Choriogonadotropin alfa (Chorionic gonadotropin)': False, 'Chromium': False, 'Chymotrypsin': False, 'Ciclesonide': False, 'Ciclopirox  (Ciclopirox olamine)': False, 'Ciclosporin (Cyclosporin, Cyclosporine)': True, 'Cidofovir': False, 'Cilastatin': True, 'Cilazapril': False, 'Cilnidipine': False, 'Cilostazol': False, 'Cimetidine': False, 'Cinacalcet': False, 'Cinchocaine': False, 'Cineole (Eucalyptol)': False, 'Cinitapride': False, 'Cinnarizine': False, 'Cinolazepam': False, 'Ciprofibrate': False, 'Ciprofloxacin': True, 'Cisapride': False, 'Cisatracurium': False, 'Cisplatin': True, 'Citalopram': False, 'Citicoline': False, 'Citric acid': False, 'Citrulline': False, 'Cladribine': False, 'Clarithromycin': True, 'Clavulanic Acid': True, 'Clebopride': False, 'Clemastine (Meclastin)': False, 'Clenbuterol': False, 'Clevudine': False, 'Clidinium': False, 'Clindamycin': True, 'Clioquinol (Chinoform)': False, 'Clobazam': False, 'Clobetasol': False, 'Clobetasone': False, 'Clobutinol': False, 'Clodronic acid (Clodronate)': False, 'Clofazimine': True, 'Clofenamide': False, 'Clofenotane (Dicophane, Dichlorodiphenyltrichloroethane/DDT)': False, 'Clofibrate': False, 'Clomethiazole (Chlormethiazole)': False, 'Clomifene (Clomiphene)': True, 'Clomipramine': True, 'Clonazepam': False, 'Clonidine': False, 'Clonixin': False, 'Clopamide': False, 'Cloperastine': False, 'Clopidogrel': True, 'Cloranolol': False, 'Clorazepate': False, 'Clorexolone': False, 'Clotrimazole': True, 'Clove oil': False, 'Cloxacillin': True, 'Cloxazolam': False, 'Clozapine': True, 'Co-magaldrox (Aluminum-hydroxide-magnesium-hydroxide)': False, 'Cobalt': False, 'Cobicistat': False, 'Cocaine': False, 'Cod liver oil': False, 'Codeine': True, 'Colchicine': False, 'Colesevelam': False, 'Colestilan': False, 'Colestipol': False, 'Colestyramine (Cholestyramine)': False, 'Colfosceril Palmitate': False, 'Colibacillus (Escherichia coli)': False, 'Colistimethate (Colistemethate)': True, 'Colistin': True, 'Collagenase': False, 'Collodion': False, 'Compound Tragacanth': False, 'Conestat alfa': False, 'Conjugated Estrogens': True, 'Copper': False, 'Copper IUD': True, 'Corifollitropin alfa': False, 'Corticotropin (Adrenocorticotropic hormone)': False, 'Cortisone': False, 'Cortivazol': False, 'Coumarin': False, 'Cridanimod': False, 'Cromoglycate': False, 'Crotamiton': False, 'Cryoprecipitate': False, 'Cyamemazine': False, 'Cyanide antidote': False, 'Cyclizine': True, 'Cyclobenzaprine': False, 'Cycloferon': False, 'Cyclopenthiazide': False, 'Cyclopentolate': True, 'Cyclophosphamide': True, 'Cycloserine': True, 'Cyproheptadine': False, 'Cyproterone': False, 'Cystine': False, 'Cytarabine': True, 'Cytidylate': False, 'Cytochrome C': False, 'Cytomegalovirus immunoglobulin': False, 'Dabigatran': False, 'Dacarbazine': True, 'Daclatasvir': True, 'Daclizumab': False, 'Dactinomycin (Actinomycin D)': True, 'Dalteparin': True, 'Danaparoid': False, 'Danazol': False, 'Dantrolene': False, 'Dapsone': True, 'Daptomycin': True, 'Darbepoetin alfa': True, 'Darifenacin': False, 'Darunavir': True, 'Dasabuvir': True, 'Dasatinib': True, 'Dasiprotimut-T': False, 'Daunorubicin': True, 'Deferasirox': True, 'Deferiprone': False, 'Deflazacort': False, 'Degarelix': False, 'Dehydroemetine': False, 'Delamanid': True, 'Delapril': False, 'Delavirdine': False, 'Deltamethrin': False, 'Denosumab': False, 'Deptropine': False, 'Dequalinium': False, 'Dermofural': False, 'Desferroxamine (Deferoxamine)': True, 'Desflurane': False, 'Desipramine': False, 'Deslanoside': False, 'Desloratidine (Desloratadine)': False, 'Desmopressin': True, 'Desogestrel': False, 'Desonide': False, 'Desoximetasone (Desoxymethasone)': False, 'Desoxycortone (Desoxycorticosterone)': False, 'Desvenlafaxine': False, 'Dexamethasone': True, 'Dexamfetamine (Dextroamphetamine, Dexamfetamine)': False, 'Dexchlorpheniramine': False, 'Dexibuprofen': False, 'Dexketoprofen': False, 'Dexlansoprazole': False, 'Dexmedetomidine': False, 'Dexpanthenol': False, 'Dexrazoxane': False, 'Dextriferron': False, 'Dextromethorphan': False, 'Dextropropoxyphene': False, 'Diacerein': False, 'Diamorphine': False, 'Diastase': False, 'Diazepam': True, 'Diazoxide': False, 'Dibenzepin': False, 'Dibunate': False, 'Dichloralphenazone': False, 'Dichloroacetic acid': False, 'Dichlorobenzene': False, 'Dichloroxylenol': False, 'Diclofenac': False, 'Dicloxacillin': True, 'Dicobalt edetate': False, 'Dicycloverine': False, 'Didanosine': False, 'Dienestrol': False, 'Dienogest': False, 'Diethazine': False, 'Diethylamine salicylate': False, 'Diethylcarbamazine': True, 'Diethylphosphate ethylisothiouronium': False, 'Diethylpropion': False, 'Diethylstilbestrol (Stilboestrol)': True, 'Difenoxin': False, 'Diflucortolone': False, 'Digitalis antitoxin': False, 'Digoxin': True, 'Dihydralazine': False, 'Dihydrocodeine': False, 'Dihydroergocristine': False, 'Dihydroergotamine': False, 'Diloxanide': True, 'Diltiazem': False, 'Dimenhydramine': False, 'Dimercaprol': True, 'Dimercaptopropane sulphonate': False, 'Dimethyl sulfoxide': False, 'Dimeticone (Dimethicone)': False, 'Dimetindene (Dimethindene)': False, 'Dinoprost': False, 'Dinoprostone': False, 'Dioctahedral smectite (Diosmectite)': False, 'Diosmin (Diosmine)': False, 'Dioxidine': False, 'Dioxyanthranol': False, 'Diphenhydramine': False, 'Diphenidol': False, 'Diphenoxylate': False, 'Diphenylpyraline': False, 'Diphtheria anti-toxin': True, 'Diphtheria vaccine': True, 'Dipivefrin': False, 'Diponium bromide': False, 'Dipropyline (Diprophylline)': False, 'Dipyridamole': False, 'Dirithromycin': False, 'Disodium hydrogen citrate': False, 'Disodium inosinate': False, 'Disopyramide': False, 'Distigmine': False, 'Disulfiram': False, 'Dithranol': False, 'Dobutamine': False, 'Docetaxel': True, 'Docosanol': False, 'Docusate': True, 'Dolasetron': False, 'Dolutegravir': True, 'Domperidone': False, 'Donepezil': False, 'Dopamine': True, 'Dornase alfa': False, 'Dorzolamide': False, 'Dosulepin': False, 'Doxapram': False, 'Doxazosin': False, 'Doxepin (Doxepine)': False, 'Doxifluridine': False, 'Doxorubicin': True, 'Doxycycline': True, 'Doxylamine': False, 'Dronedarone': False, 'Droperidol (Dehydrobenzoperidol)': False, 'Dropropizine': False, 'Drospirenone': False, 'Drotaverine': False, 'Drotrecogin alfa': False, 'Duloxetine': False, 'Dutasteride': False, 'Dydrogesterone': False, 'Ebastine': False, 'Econazole': False, 'Ecothiopate (Echothiophate)': False, 'Eculizumab': False, 'Efavirenz': True, 'Eflornithine': True, 'Elbasvir': False, 'Eletriptan': False, 'Eltrombopag': False, 'Eluxadoline': False, 'Elvitegravir': False, 'Emedastine': False, 'Emepronium': False, 'Emetine': False, 'Emoxypine': False, 'Emtricitabine': True, 'Enalapril': True, 'Encephalitis vaccine': False, 'Enflurane': False, 'Enfuvirtide': False, 'Enoxacin': False, 'Enoxaparin': True, 'Enoximone': False, 'Entacapone': False, 'Entecavir': True, 'Epanolol': False, 'Eperisone': False, 'Ephedrine': True, 'Epidermal growth factor': False, 'Epinastine': False, 'Epinephrine (Adrenaline)': True, 'Epirubicin': False, 'Eplerenone': False, 'Epoprostenol (Prostacyclin)': False, 'Eprazinone': False, 'Eprosartan': False, 'Eptacog Alfa': False, 'Eptifibatide': False, 'Erbium': False, 'Erdosteine': False, 'Ergoloid (co-dergocrine mesilate, dihydroergotoxin, dihydroergotixine)': False, 'Ergonovine (Ergometrine)': True, 'Ergotamine': False, 'Erlotinib': False, 'Ertapenem': False, 'Erythromycin': True, 'Erythropoietin': False, 'Escitalopram': False, 'Esculin': False, 'Esdepallethrin': False, 'Eslicarbazepine': False, 'Esmolol': False, 'Esomeprazole': False, 'Estazolam': False, 'Estradiol': True, 'Estramustine': False, 'Estriol': False, 'Estrogen-releasing implant': False, 'Estrone': False, 'Eszopiclone (Eszopiclon)': False, 'Etamsylate': False, 'Etanercept': False, 'Ethacizine': False, 'Ethacridine': False, 'Ethambutol': True, 'Ethaverine': False, 'Ether': False, 'Ethinylestradiol': True, 'Ethionamide': True, 'Ethisterone': False, 'Ethosuximide': True, 'Ethyl biscoumacetate': False, 'Ethylchloride': False, 'Ethylene glycol': False, 'Ethylmorphine': False, 'Ethylsalicylate': False, 'Etidocaine': False, 'Etidronic acid (Etidronate)': False, 'Etifoxine': False, 'Etilefrine': False, 'Etodolac': False, 'Etofenamate (Etofenamet)': False, 'Etomidate': False, 'Etonogestrel': False, 'Etonogestrel-releasing implant': True, 'Etophylline': False, 'Etoposide': True, 'Etoricoxib': False, 'Etravirine': False, 'Etretinate': False, 'Etynodiol (Ethynodiol)': False, 'Eucalyptus oil': False, 'Euflavine': False, 'Everolimus': False, 'Evonorgestrel-releasing intrauterine system': False, 'Exemestane': False, 'Exenatide': False, 'Ezetimibe': False, 'Factor II': False, 'Factor IX': True, 'Factor VII': False, 'Factor VIII': True, 'Factor X': False, 'Factor XIII': False, 'Faldaprevir': False, 'Famciclovir': False, 'Famotidine': False, 'Fampridine': False, 'Faropenem': True, 'Fatty acid esters': False, 'Febuxostat': False, 'Felbinac': False, 'Felodipine': False, 'Felypressin': False, 'Fenchone': False, 'Fenfluramine': False, 'Fenofibrate': False, 'Fenoldopam': False, 'Fenoterol': False, 'Fenquizone': False, 'Fenspiride': False, 'Fentanyl': True, 'Fenticonazole': False, 'Ferrous Fumarate (Iron)': True, 'Fesoterodine': False, 'Fexofenadine': False, 'Fibrinogen': False, 'Fibrinolysin': False, 'Filgrastim': True, 'Finasteride': False, 'Fingolimod': False, 'Flavoxate': False, 'Flecainide': False, 'Floctafenine': False, 'Flubendazole': False, 'Flucloxacillin': True, 'Fluconazole': True, 'Flucytosine': True, 'Fludarabine': True, 'Fludrocortisone (Fluohydrocortisone)': True, 'Flufentamic acid (Flufenamic acid)': False, 'Fluindione': False, 'Flumazenil': False, 'Flumethasone': False, 'Flunarizine': False, 'Flunisolide': False, 'Flunitrazepam': False, 'Fluocinolone': False, 'Fluocinonide': False, 'Fluocortolone': False, 'Fluoride': True, 'Fluorometholone': False, 'Fluorouracil': True, 'Fluoxetine': True, 'Fluoxymesterone': False, 'Flupentixol': False, 'Fluphenazine': True, 'Flupirtine': False, 'Flurazepam': False, 'Flurbiprofen': False, 'Fluspirilene': False, 'Flutamide': False, 'Fluticasone': False, 'Flutrimazole': False, 'Fluvastatin': False, 'Fluvoxamine': False, 'Folic Acid': True, 'Follicle-stimulating hormone': False, 'Follitropin alfa': False, 'Follitropin beta': False, 'Fomepizole': True, 'Fondaparinux': False, 'Formoterol': True, 'Fosamprenavir': False, 'Fosaprepitant': False, 'Foscarnet': False, 'Fosfomycin': True, 'Fosfonet': False, 'Fosinopril': False, 'Fosphenytoin': False, 'Fotemustine': False, 'Framycetin': False, 'Frovatriptan': False, 'Fullers earth': False, 'Fulvestrant': False, 'Funtumine': False, 'Furagin': False, 'Furazolidone': False, 'Furosemide': True, 'Fusafungin': False, 'Fusidic Acid': False, 'Gabapentin': False, 'Galantamine': False, 'Gallamine': False, 'Galsulfase': False, 'Gamma Hydroxybutyrate': False, 'Ganciclovir': False, 'Ganirelix': False, 'Gas gangrene antitoxin': False, 'Gatifloxacin': False, 'Gefitinib': False, 'Gemcitabine': True, 'Gemeprost': False, 'Gemfibrozil': False, 'Gemifloxacin': False, 'Gentamicin': True, 'Gestodene': False, 'Gestonorone': False, 'Gestrinone': False, 'Gingko biloba (Ginkgo biloba)': False, 'Ginseng': False, 'Glatiramer (Glatiramir, Copaxone)': False, 'Glibenclamide (Glyburide)': False, 'Gliclazide': True, 'Glimepiride': False, 'Glipizide': False, 'Gliquidone': False, 'Glucagon': True, 'Glucosade (Glucozade)': False, 'Glucosamine': False, 'Glutamic acid': False, 'Glutamine': False, 'Glutaraldehyde': False, 'Glutathione': False, 'Glycine': False, 'Glycol salicylate': False, 'Glycolic acid': False, 'Glycopyrrolate (Glycopyrronium)': False, 'Gold salts': False, 'Golimumab': False, 'Gonadotrophin': False, 'Gonadotrophin-releasing hormone (Gonadorelin)': False, 'Goserelin': False, 'Gramicidin': False, 'Granisetron': False, 'Grass pollen extract': False, 'Grazoprevir': False, 'Griseofulvin': True, 'Guaiphenesin (Guaifenesin)': False, 'Guanine': False, 'Guanosine': False, 'Guar gum': False, 'HPV vaccine (Human papilloma virus vaccine)': True, 'Haemophilus influenzae type b vaccine': True, 'Haemophobin': False, 'Halobetasol propionate': False, 'Halofantrine': False, 'Halometasone': False, 'Haloperidol': True, 'Halothane': True, 'Hammamelis virginiana': False, 'Helium': False, 'Hemoderivative': False, 'Heparin': True, 'Heparinoid': False, 'Hepatitis A vaccine': True, 'Hepatitis B immunoglobulin': False, 'Hepatitis B vaccine': True, 'Hepatitis C vaccine': False, 'Heptaminol': False, 'Herpes virus vaccine': False, 'Hesperidin': False, 'Hetastarch': False, 'Hexachloride': False, 'Hexachlorophene': False, 'Hexamidine': False, 'Hexamine': False, 'Hexamthylmelamine': False, 'Hexetidine': False, 'Hexoprenaline': False, 'Hidrosmin': False, 'Histamine dihydrochloride': False, 'Histidine': False, 'Histrelin': False, 'Homatropine': False, 'Human anti-hemophiliac fraction': False, 'Huperzine A': False, 'Hyaluronate': False, 'Hyaluronidase': False, 'Hydralazine': True, 'Hydrochloric acid': False, 'Hydrochlorothiazide': True, 'Hydrocodone': False, 'Hydrocortisone': True, 'Hydromorphone': False, 'Hydrophillic petroleum': False, 'Hydroquinidine': False, 'Hydroquinone': False, 'Hydroxychloroquine': True, 'Hydroxyethyl cellulose': False, 'Hydroxyprogesterone': False, 'Hydroxyquinoline': False, 'Hydroxyurea (Hydroxycarbamide)': True, 'Hydroxyzine': False, 'Hypromellose (Hydroxymethylcellulose)': False, 'Ibacitabine': False, 'Ibandronate': False, 'Ibopamine': False, 'Ibritumomab tiuxetan': False, 'Ibuprofen': True, 'Icatibant': False, 'Ichthammol': False, 'Idarubicin': False, 'Idarucizumab': False, 'Idebenone': False, 'Idoxuridine': False, 'Idrocilamide': False, 'Idursulfase': False, 'Ifosfamide': True, 'Iloprost': False, 'Imatinib': True, 'Imidapril': False, 'Imiglucerase': False, 'Imipenem': True, 'Imipramine': False, 'Imiquimod': False, 'Immunocyanin': False, 'Indacaterol': False, 'Indapamide': False, 'Indinavir': False, 'Indobufen': False, 'Indomethacin': False, 'Infliximab': False, 'Influenza vaccine': True, 'Inosine': False, 'Inositol nicotinate': False, 'Insulin, long acting': False, 'Insulin, short acting': True, 'Interferon alfa': False, 'Interferon beta': False, 'Interferon gamma': False, 'Interleukin-2': False, 'Intermediate-acting insulin': True, \"Iodine (Lugol's Iodine)\": True, 'Ipecacuanha': False, 'Ipidacrine': False, 'Ipratropium': True, 'Irbesartan': False, 'Irinotecan': True, 'Isepamicin sulfate': False, 'Isocarboxazid': False, 'Isoconazole': False, 'Isoflurane': True, 'Isometheptene mucoate': False, 'Isoniazid': True, 'Isoprenaline/Isoproterenol': False, 'Isopropamide iodide': False, 'Isosorbide': False, 'Isosorbide dinitrate': True, 'Isosorbide mononitrate': False, 'Isotretinoin': False, 'Isoxsuprine': False, 'Ispaghula (Isabgol, Psylla seeds)': False, 'Isradipine': False, 'Itraconazole': True, 'Ivabradine': False, 'Ivermectin': True, 'Japanese encephalitis vaccine': True, 'Josamycin': False, 'Juniperberry oil': False, 'Kanamycin': True, 'Kaolin light bp powder': False, 'Ketamine': True, 'Ketanserin': False, 'Ketazolam': False, 'Ketoconazole': False, 'Ketoprofen': False, 'Ketorolac': False, 'Ketotifen': False, 'Khellin': False, 'Kojic acid': False, 'Ksantinola Nicotinate': False, 'Labetalol': False, 'Lacidipine': False, 'Lacosamide': False, 'Lactase enzyme (Lactasin)': False, 'Lactic acid': False, 'Lactobaccilli (Lactobacillus)': False, 'Lactulose': True, 'Lagundi': False, 'Lamivudine': True, 'Lamotrigine': True, 'Lanatoside C': False, 'Landiolol': False, 'Lanolin': False, 'Lanreotide': False, 'Lansoprazole': False, 'Lanthanum': False, 'Lapatinib': False, 'Lappaconitine': False, 'Laquinimod': False, 'Larodinase/Laronidase': False, 'Laropiprant': False, 'Latanoprost': True, \"Lead (Goulard's Extract)\": False, 'Ledipasvir': True, 'Leflunomide': False, 'Lenalidomide': False, 'Lenograstim': False, 'Lentinan': False, 'Lepirudin': False, 'Leptospirosis vaccine': False, 'Lercanidipine': False, 'Letrozole': False, 'Leuprolide (Leuprorelin)': True, 'Levamisole': True, 'Levetiracetam': False, 'Levobunolol': False, 'Levobupivacaine': False, 'Levocabastine': False, 'Levocarnitine': False, 'Levocetirizine': False, 'Levodopa': True, 'Levofloxacin': True, 'Levomenthol': False, 'Levomepromazine': False, 'Levonorgestrel': True, 'Levonorgestrel (emergency contraception)': True, 'Levonorgestrel - Releasing Intrauterine System': True, 'Levosimendan': False, 'Levothyroxine': True, 'Libeksin': False, 'Lidocaine (Lignocaine, Xylocaine)': True, 'Linaclotide': False, 'Linagliptin': False, 'Lincomycin': False, 'Lindane (Benzoyl chloride, Gamma benzene hexachloride)': False, 'Linezolid': True, 'Liothyronine': False, 'Lipid Emulsions': False, 'Liraglutide': False, 'Lisinopril': False, 'Lisuride': False, 'Lithium': True, 'Lobeline': False, 'Lodoxamide': False, 'Lofepramine': False, 'Lomefloxacin': False, 'Lomustine': False, 'Loperamide': True, 'Lopinavir': True, 'Loprazolam': False, 'Loratadine': True, 'Lorazepam': True, 'Lormetazepam': False, 'Lornoxicam': False, 'Losartan': True, 'Loteprednol': False, 'Lovastatin': False, 'Loxoprofen': False, 'Loxoscelic serum': False, 'Lumefantrine (Benflumetol)': True, 'Lumiracoxib': False, 'Lupinus albus': False, 'Lutein': False, 'Luteinizing hormone (Lutropin)': False, 'Lymecycline': False, 'Lynestrenol': False, 'Lypressin': False, 'Lysine': False, 'Lysine acetylsalicylate': False, 'Lysozyme': False, 'MESNA': True, 'Macrogol (Polyethylene Glycol 3350)': False, 'Mafenide acetate': False, 'Magnesium': True, 'Malaria vaccine': False, 'Malathion': False, 'Malic acid': False, 'Malva purpurea': False, 'Manganese': False, 'Mangiferin': False, 'Manidipine': False, 'Mannitol': True, 'Maprotiline': False, 'Maraviroc': False, 'Maribavir': False, 'Marshmallow root': False, 'Mazipredone': False, 'Measles immunoglobulin': False, 'Measles vaccine': True, 'Mebendazole': True, 'Mebeverine': False, 'Mebhydrolin': False, 'Mecasermin': False, 'Meclizine': False, 'Meclobemide': False, 'Meclofenoxate': False, 'Medazepam': False, 'Medium chain triglycerides': False, 'Medrogestone': False, 'Medroxyprogesterone': True, 'Medrysone': False, 'Mefenamic acid': False, 'Mefloquine': True, 'Mefruside': False, 'Megestrol': False, 'Melagenina (Melanin)': False, 'Melanoma vaccine': False, 'Melarsonyl potassium': False, 'Melarsoprol': True, 'Melatonin': False, 'Meldonium': False, 'Melitracen': False, 'Meloxicam': False, 'Melperone': False, 'Melphalan': False, 'Memantine': False, 'Menadione': False, 'Menfegol': False, 'Meningitis vaccine (meningococcal vaccine)': True, 'Menopausal gonadotropin (Human menopausal gonadotrophin, Menotropin)': False, 'Menthol': False, 'Mepartricin': False, 'Mephenesin': False, 'Mephenoxalone': False, 'Mephentermine': False, 'Mepindolol': False, 'Mepivacaine': False, 'Meprobamate': False, 'Mepyramine (Pyrilamine maleate)': False, 'Mequinol': False, 'Mequitazine': False, 'Mercaptamine (Cysteamine, Phosphocysteamine)': False, 'Mercaptopurine': True, 'Meropenem': True, 'Mesalamine': False, 'Mesalazine': False, 'Mesterolone': False, 'Metamizole (Dipyrone)': False, 'Metandienone (Methandienone)': False, 'Metaproterenol (Orciprenaline)': False, 'Metaraminol': False, 'Metaxalone': False, 'Metformin': True, 'Methadone': True, 'Methazolamide': False, 'Methenamine': False, 'Methenolone': False, 'Methimazole': False, 'Methionine': False, 'Methixine': False, 'Methocarbamol': False, 'Methotrexate': True, 'Methoxamine': False, 'Methoxsalen': False, 'Methscopolamine': False, 'Methyl nicotinate': False, 'Methylamino levulinate': False, 'Methylchlorothiazide': False, 'Methyldopa': True, 'Methylenecycline': False, 'Methylergometrine (Methylergonovine)': False, 'Methylestrenolone': False, 'Methylnaltrexone bromide': False, 'Methylphenidate': False, 'Methylphenobarbital': False, 'Methylprednisolone': True, 'Methylsalicylate': False, 'Methyltestosterone': False, 'Methylthionine (Methylene Blue)': True, 'Methyluracil': False, 'Meticrane': False, 'Metildigoxin (Methyldigoxin)': False, 'Metipranolol': False, 'Metisazone': False, 'Metoclopramide': True, 'Metolazone': False, 'Metopimazine': False, 'Metoprolol': True, 'Metrifonate': False, 'Metronidazole': True, 'Metyrapone': False, 'Mexazolam': False, 'Mexenone': False, 'Mexiletine': False, 'Mezlocillin': False, 'Mianserin (Mianserine)': False, 'Micafungin': False, 'Miconazole': True, 'Midazolam': True, 'Midecamycin': False, 'Midodrine': False, 'Mifamurtide': False, 'Mifepristone': True, 'Miglitol': False, 'Miglustat': False, 'Milnacipram (Milnacipran)': False, 'Milrinone': False, 'Miltefosine': True, 'Mineral oil': False, 'Minocycline': False, 'Minoxidil': False, 'Mirtazapine': False, 'Misoprostol': True, 'Mitomycin': False, 'Mitotane': False, 'Mitoxantrone': False, 'Mivacurium': False, 'Mizolastine': False, 'Moclobemide': False, 'Modafinil': False, 'Moexipril': False, 'Molgramostim': False, 'Molsidomine': False, 'Mometasone': False, 'Monalazone': False, 'Monobenzone': False, 'Monoethanolamine oleate (Ethanolamine)': False, 'Montelukast': False, 'Montmorillonite': False, 'Moroctocog alfa': False, 'Moroxydine': False, 'Morphine': True, 'Morrhuate': False, 'Mosapride': False, 'Moxifloxacin': True, 'Moxonidine': False, 'Multivitamin': False, 'Mumps immunoglobulin': False, 'Mumps vaccine': True, 'Mupirocin': True, 'Muromonab-CD3': False, 'Mycophenolate': False, 'Mydricaine': False, 'Myrtecaine': False, 'N-acetyl penicillamine': False, 'Nabumetone': False, 'Nadifloxacin': False, 'Nadolol': False, 'Nadroparin': True, 'Nafarelin': False, 'Nafcillin': False, 'Naftazone': False, 'Naftidrofuryl': False, 'Naftifine': False, 'Nalbuphine': False, 'Nalfurafine': False, 'Nalidixic acid': False, 'Nalorphine': False, 'Naloxone': True, 'Naltrexone': False, 'Nandrolone': False, 'Naphazoline': False, 'Naproxen': False, 'Naratriptan': False, 'Natalizumab': False, 'Natamycin': True, 'Nateglinide': False, 'Nebacumab': False, 'Nebivolol': False, 'Nedocromil': False, 'Nefopam': False, 'Nelarabine': False, 'Nelfinavir': False, 'Neomycin': False, 'Neostigmine': True, 'Nepafenac': False, 'Netilmicin': False, 'Nevirapine': True, 'Nicardipine': False, 'Nicergoline': False, 'Niclosamide': True, 'Nicoboxil': False, 'Nicorandil': False, 'Nicotine replacement therapy': True, 'Nicotinic acid': False, 'Nicotinyl alcohol (Nicotinyl tartrate, Pyridylcarbinol)': False, 'Nifedipine': True, 'Niflumic acid': False, 'Nifuratel': False, 'Nifuroxazide': False, 'Nifurtimox': True, 'Nikethamide': False, 'Nilestriol': False, 'Nilotinib': True, 'Nilutamide': False, 'Nilvadipine': False, 'Nimesulide': False, 'Nimodipine': False, 'Nimotuzumab': False, 'Nisoldipine': False, 'Nitazoxanide': False, 'Nitisinone': False, 'Nitrazepam': False, 'Nitrendipine': False, 'Nitrofurantoin': True, 'Nitrofurazone': False, 'Nitrogen': False, 'Nitroglycerin (Glyceryl trinitrate)': True, 'Nitroprusside': True, 'Nitrous oxide (Dinitrogen oxide)': True, 'Nitroxoline': False, 'Nizatidine': False, 'Nomegestrol': False, 'Nonivamide': False, 'Nonoxynol': False, 'Noradrenaline (Norepinephrine)': False, 'Norelgestromin': False, 'Norethandrolone': False, 'Norethisterone (Norethindrone)': True, 'Norfloxacin': True, 'Norgestrel': False, 'Nortriptyline (Nortryptyline)': False, 'Noscapine': False, 'Nystatin': True, 'Obidoxime': False, 'Octocog alfa': False, 'Octoxinol': False, 'Octreotide': False, 'Ofloxacin': True, 'Olanzapine': False, 'Olbas oil': False, 'Olmesartan': False, 'Olopatadine': False, 'Omalizumab': False, 'Ombitasvir': True, 'Omega 3 Fatty Acids': False, 'Omeprazole': True, 'Omoconazole': False, 'Ondansetron': True, 'Opipramol': False, 'Opium (Paregoric)': False, 'Oprelvekin': False, 'Orlistat': False, 'Ornidazole': False, 'Ornipressin': False, 'Ornithine': False, 'Orphenadrine': False, 'Oseltamivir': True, 'Otilonium bromide': False, 'Otosporin (Brand name)': False, 'Oxacillin': False, 'Oxaliplatin': False, 'Oxamniquine': True, 'Oxandrolone': False, 'Oxantel': False, 'Oxatomide': False, 'Oxazepam': False, 'Oxcarbazepine': False, 'Oxerutin': False, 'Oxetacaine': False, 'Oxetorone': False, 'Oxiconazole': False, 'Oxitriptan': False, 'Oxolinic acid': False, 'Oxomemazine': False, 'Oxprenolol': False, 'Oxybutynin': False, 'Oxycodone': False, 'Oxygen': True, 'Oxymetazoline': False, 'Oxymetholone': False, 'Oxytetracycline': False, 'Oxytocin (Pitocin)': True, 'Paclitaxel': True, 'Palifermin': False, 'Paliperidone': False, 'Palivizumab': False, 'Palonosetron': False, 'Pamabrom': False, 'Pamidronic acid (Pamidronate)': False, 'Pancreatic enzymes': True, 'Pancuronium': False, 'Panitumumab': False, 'Panthenol': False, 'Pantoprazole': False, 'Papain': False, 'Papaveretum': False, 'Papaverine': False, 'Para-Aminobenzoic acid': False, 'Para-aminosalicylic acid': True, 'Paracetamol (Acetaminophen)': True, 'Paraffin': False, 'Paraldehyde': False, 'Parathyroid Hormone': False, 'Paratyphoid vaccine': False, 'Parecoxib': False, 'Pargeverine': False, 'Paritaprevir': True, 'Paromomycin': True, 'Paroxetine': False, 'Passiflora incarnata': False, 'Patiromer calcium': False, 'Pazopanib': False, 'Peanut oil (Cerumol)': False, 'Pefloxacin': False, 'Pegademase': False, 'Pegaptanib': False, 'Pegaspargase': False, 'Pegfilgrastim': False, 'Pegvisomant': False, 'Pegylated interferon alpha 2a': True, 'Pegylated interferon alpha 2b': True, 'Pemirolast': False, 'Penbutolol': False, 'Penciclovir': False, 'Penfluridol': False, 'Penicillamine': True, 'Penicillin G Benzathine': True, 'Penicillin V Benzathine': False, 'Pentaerythritol tetranitrate': False, 'Pentamidine': True, 'Pentazocine': False, 'Pentobarbitone': False, 'Pentosalen (Imperatorin)': False, 'Pentosan polysulphate sodium': False, 'Pentoxifylline (Oxpentifylline)': False, 'Pentoxyverine': False, 'Peppermint oil': False, 'Perazine': False, 'Perfluorocarbon liquid': False, 'Pergolide mesylate': False, 'Periciazine': False, 'Perindopril': False, 'Permethrin': True, 'Perphenazine': False, 'Pertussis antitoxin': False, 'Pertussis immunoglobulin': False, 'Pertussis vaccine': True, 'Peru Balsam': False, 'Pethidine (Meperidine)': False, 'Petroleum': False, 'Phenazepam': False, 'Phenazone': False, 'Phenazopyridine': False, 'Phenindamine': False, 'Pheniramine': False, 'Phenobarbital': True, 'Phenothrin': False, 'Phenoxazine': False, 'Phenoxybenzamine': False, 'Phenoxymethylpenicillin (penicillin V)': True, 'Phenprocoumon': False, 'Phentermine': False, 'Phentolamine': False, 'Phenylbutazone': False, 'Phenylephrine': False, 'Phenylpropanolamine': False, 'Phenytoin': True, 'Phloroglucinol': False, 'Pholcodine': False, 'Phthalylsulfathiazole': False, 'Physostigmine': False, 'Piascledine': False, 'Picloxydine': False, 'Pidotimod': False, 'Pilocarpine': True, 'Pimecrolimus': False, 'Pimethixene': False, 'Pimozide': False, 'Pinaverium': False, 'Pindolol': False, 'Pinene': False, 'Pioglitazone': False, 'Pipamperone': False, 'Pipecuronium': False, 'Pipemidic acid': False, 'Pipenzolate bromide': False, 'Piperacillin': True, 'Piperaquine': True, 'Pipotiazine': False, 'Pipoxolan': False, 'Piracetam': False, 'Pirenoxine': False, 'Piribedil': False, 'Piritramide': False, 'Piroxicam': False, 'Pitofenone': False, 'Pitolisant': False, 'Pituitrin': False, 'Pivmecillinam': False, 'Pizotifen': False, 'Plague vaccine': False, 'Plasminogen activator': False, 'Plastibase': False, 'Platyphylline': False, 'Pleconaril': False, 'Plerixafor': False, 'Pneumococcal vaccine': True, 'Podophyllotoxin (Podofilox)': False, 'Podophyllum (Podophyllin)': True, 'Policresulen (Policresulene)': False, 'Polidocanol': False, 'Poliomyelitis vaccine (Polio vaccine)': True, 'Polymyxin': True, 'Polythiazide': False, 'Posaconazole': False, 'Potassium': True, 'Practolol': False, 'Prajmaline': False, 'Pralidoxime (Contrathion)': False, 'Pramipexole': False, 'Pramiracetam': False, 'Pramocaine (Pramoxine)': False, 'Pranlukast': False, 'Prasterone (Dehydroepiandrosterone)': False, 'Prasugrel': False, 'Pravastatin': False, 'Prazepam': False, 'Praziquantel': True, 'Prazosin': False, 'Prednicarbate (Prednicarbat)': False, 'Prednimustine': False, 'Prednisolone': True, 'Prednisone': False, 'Pregabalin': False, 'Premetrexed (Pemetrexed)': False, 'Prifinium': False, 'Prilocaine': False, 'Primaquine': True, 'Primidone': False, 'Pristinamycin': False, 'Proactant alfa': False, 'Probenecid': False, 'Procainamide': False, 'Procaine': False, 'Procaine benzylpenicillin': True, 'Procarbazine': True, 'Procaterol': False, 'Prochlorperazine': False, 'Procyclidine': False, 'Profenamine': False, 'Progesterone': False, 'Progesterone vagnal ring': True, 'Progestons': False, 'Proguanil': True, 'Promazine': False, 'Promegestone': False, 'Promestriene': False, 'Promethazine': False, 'Propacetamol': False, 'Propafenone': False, 'Propantheline bromide': False, 'Propericiazine': False, 'Propinox': False, 'Propiomazine': False, 'Propionamide': False, 'Propiverine': False, 'Propofol': True, 'Propolis': False, 'Propranolol': True, 'Propylthiouracil': True, 'Propyphenazone': False, 'Propyromazine bromide': False, 'Prostaglandin': True, 'Protamine': True, 'Protease': True, 'Prothrombin Complex': False, 'Protionamide (Prothionamide)': False, 'Protirelin': False, 'Protoporphyrin': False, 'Prourokinase': False, 'Proxymetacaine (Proparacaine)': False, 'Prucalopride': False, 'Prussian blue': True, 'Pseudoephedrine': False, 'Psorospermum': False, 'Psyllium': False, 'Pygeum': False, 'Pyrantel': True, 'Pyrazinamide': True, 'Pyridostigmine': True, 'Pyrimethamine': True, 'Pyritinol': False, 'Pyronaridine': True, 'Pyrrobutamine': False, 'Pyrvinium pamoate': False, 'Quetiapine': False, 'Quifenadine': False, 'Quinacrine': False, 'Quinagolide': False, 'Quinapril': False, 'Quinethazone': False, 'Quinfamide': False, 'Quinidine': False, 'Quinine': True, 'Quinupristin': False, 'Rabeprazole': False, 'Rabies immunoglobulin': True, 'Rabies vaccine': True, 'Racecadotril (Acetorphan)': False, 'Raloxifene': False, 'Raltegravir': True, 'Raltitrexed': False, 'Ramelteon': False, 'Ramipril': False, 'Ranibizumab': False, 'Ranitidine': True, 'Rasagiline': False, 'Rasburicase': False, 'Raubasine': False, 'Reboxetine': False, 'Remifentanil (Remifentanyl)': False, 'Repaglinide': False, 'Repamipide': False, 'Reserpine': False, 'Resorcinol': False, 'Respiratory synctial virus immunoglobulin': False, 'Retapamulin': False, 'Reteplase': False, 'Retigabine': False, 'Reviparin': False, 'Rhubarb': False, 'Ribavirin (Tribavirin)': True, 'Ribomunyl': False, 'Rifabutin': True, 'Rifampicin': True, 'Rifamycin': False, 'Rifapentine': True, 'Rifaximin': False, 'Rilmenidine': False, 'Rilpivirine': False, 'Riluzole': False, 'Rimantadine': False, 'Rimexolone': False, 'Rimonabant': False, 'Risedronate': False, 'Risperidone': True, 'Ritodrine': False, 'Ritonavir': True, 'Rituximab': True, 'Rivaroxaban': False, 'Rivastigmine': False, 'Rizatriptan': False, 'Rocuronium': False, 'Rofecoxib': False, 'Roflumilast': False, 'Romiplostim': False, 'Ropinirole': False, 'Ropivacaine': False, 'Roquinimex': False, 'Rose bengal': False, 'Rosiglitazone': False, 'Rosuvastatin': False, 'Rotavirus vaccine': True, 'Rotigotine': False, 'Rotundin': False, 'Roxithromycin': False, 'Rubella immunoglobulin': False, 'Rubella vaccine': True, 'Rufinamide': False, 'Rupatidine (Rupatadine)': False, 'Ruscogenins': False, 'Rutoside': False, 'Saccharomyces boulardii': False, 'Salbutamol': True, 'Salicylamide': False, 'Salicylic acid': True, 'Salmeterol': False, 'Samarium': False, 'Sambong': False, 'Saproterin': False, 'Saquinavir': False, 'Saxagliptin': False, 'Scopolamine': True, 'Secnidazole': False, 'Selegiline': False, 'Selenium': True, 'Semustine': False, 'Senna (Sennosides)': True, 'Sequifenadine': False, 'Serenoa repens': False, 'Serine': False, 'Serrapeptase': False, 'Sertaconazole': False, 'Sertindole': False, 'Sertraline': False, 'Sevelamer': False, 'Sevoflurane': False, 'Sibutramine': False, 'Sildenafil': False, 'Silicon': False, 'Silodosin': False, 'Silvadene nitrate': False, 'Silver': False, 'Silver amalgam mercury': False, 'Silver nitrate': False, 'Silver sulfadiazine': True, 'Silymarin': False, 'Simeprevir': True, 'Simethicone': False, 'Simple Linctus': False, 'Simvastatin': True, 'Sipuleucel-T': False, 'Sirolimus': False, 'Sisomicin': False, 'Sitagliptin': False, 'Smallpox vaccine': False, 'Sodium aurothiomalate': False, 'Sodium cellulose phosphate': False, 'Sodium hydrogen carbonate (Sodium bicarbonate)': True, 'Sodium hydroxybutyrate': False, 'Sodium lauryl sulfoacetate': False, 'Sodium nitrite': True, 'Sodium oxybutyrate': False, 'Sodium phenylbutyrate': False, 'Sodium phosphate': False, 'Sodium picosulphate': False, 'Sodium salicylate': False, 'Sodium tetradecyl sulfate': False, 'Sofosbuvir': True, 'Solcoseryl': False, 'Solifenacin': False, 'Somatostatin': False, 'Somatropin (Growth hormone)': False, 'Sorafenib': False, 'Sorbitol': False, 'Sorbolene': False, 'Sotalol': False, 'Soy bean oil': False, 'Spaglumate': False, 'Sparfloxacin (Sparfloxacine)': False, 'Spectinomycin': True, 'Spiramycin': False, 'Spirapril': False, 'Spirit': False, 'Spironolactone': True, 'Squill oxymel': False, 'Staphylococcus immunoglobulin': False, 'Stavudine': True, 'Stearic acid': False, 'Sterculia': False, 'Stibogluconate': True, 'Stimulating factor of granulocytic colonies': False, 'Streptokinase': True, 'Streptomycin': True, 'Strofantin': False, 'Strontium': False, 'Succimer': True, 'Sucralfate': False, 'Sucroferric oxyhydroxide': False, 'Sufentanil (Sufentanyl)': False, 'Sugammadex': False, 'Sulbactam': False, 'Sulbutiamine': False, 'Sulfabenzamide': False, 'Sulfacetamide': False, 'Sulfadiazine': True, 'Sulfadimidine': False, 'Sulfadoxine': True, 'Sulfafurazole': False, 'Sulfaguanidine': False, 'Sulfamethoxazole': True, 'Sulfamethoxypyrazine': False, 'Sulfametrole': False, 'Sulfanilamide': False, 'Sulfasalazine (Salazosulfapyridine)': True, 'Sulfathiazole': False, 'Sulfiram': False, 'Sulfur': False, 'Sulfur hexafluoride': False, 'Sulindac': False, 'Sulisobenzone': False, 'Sulodexide': False, 'Sulpiride': False, 'Sulprostone': False, 'Sultiame': False, 'Sumatriptan': False, 'Sunitinib': False, 'Suprofen': False, 'Suramin': True, 'Surfactant': True, 'Susoctocog alfa': False, 'Suxamethonium': True, 'Tacalcitol': False, 'Tacrolimus': False, 'Tadalafil': False, 'Tafamidis': False, 'Tafluprost': False, 'Talinolol': False, 'Tamoxifen': True, 'Tamsulosin': False, 'Tannic acid': False, 'Tapentadol': False, 'Tar (Coal)': True, 'Tartaric acid (Ural effervescent)': False, 'Tasonermin': False, 'Tazobactam': True, 'Teclozan': False, 'Tegafur': False, 'Tegaserod maleate': False, 'Teicoplanin': True, 'Telapravir (Telaprevir)': False, 'Telbivudine': False, 'Telithromycin': False, 'Telmisartan': False, 'Temazepam': False, 'Temoporfin': False, 'Temozolomide': False, 'Temsirolimus': False, 'Tenecteplase': False, 'Teniposide': False, 'Tenofovir Disoproxil Fumarate': True, 'Tenonitrozole': False, 'Tenoxicam': False, 'Terazosin': False, 'Terbinafine': True, 'Terbutaline': False, 'Terfenadine': False, 'Teriparatide': False, 'Terizidone': True, 'Terlipressin': False, 'Terodiline': False, 'Terpin': False, 'Tertatolol': False, 'Testosterone': True, 'Tetanus antitoxin': True, 'Tetanus vaccine': True, 'Tetrabenazine': False, 'Tetracaine': True, 'Tetracosactide': False, 'Tetracycline': True, 'Tetragalacturonic acid hydroxymethylester': False, 'Tetrazepam': False, 'Tetryzoline': False, 'Thalidomide': False, 'Thenalidine': False, 'Theophylline': False, 'Thiabendazole': False, 'Thiamphenicol': False, 'Thiethylperazine': False, 'Thioacetazone': False, 'Thiocolchicoside': False, 'Thioctic Acid': False, 'Thioguanine': True, 'Thiopental': True, 'Thioridazine': False, 'Thiosulfate': True, 'Thiotepa': False, 'Thiothixene': False, 'Threonine': False, 'Thrombin': False, 'Thymidine': False, 'Thymol': False, 'Thymomodulin': False, 'Thymopentin': False, 'Thymosin (Thymalfasin)': False, 'Thyropropin': False, 'Thyrotrophin-releasing hormone': False, 'Tiagabine': False, 'Tianeptine': False, 'Tiapride': False, 'Tiaprofenic acid': False, 'Tibolone': False, 'Ticagrelor': False, 'Ticarcillin': False, 'Tick-borne encephalitis immunoglobulin': True, 'Tick-borne encephalitis vaccine (Anti-tick vaccine)': False, 'Ticlopidine': False, 'Tiemonium': False, 'Tifomycin': False, 'Tigecycline': True, 'Tilactase': False, 'Tilidine': False, 'Timolol': True, 'Tinidazole': False, 'Tinzaparin': False, 'Tioconazole': False, 'Tiotropium': False, 'Tipranavir': False, 'Tirilazad': False, 'Tirofiban': False, 'Tiropramide': False, 'Titanium dioxide': False, 'Tixocortol': False, 'Tizanidine': False, 'Tobramycin': False, 'Tocilizumab': False, 'Tofisopam': False, 'Tolazoline': False, 'Tolbutamide': False, 'Tolcapone': False, 'Tolmetin sodium': False, 'Tolnaftate': False, 'Tolperisone': False, 'Tolterodine': False, 'Topiramate': False, 'Topotecan': False, 'Toremifene': False, 'Torsemide': False, 'Tothema': False, 'Trabectedin': False, 'Tramadol': False, 'Trandolapril': False, 'Tranexamic acid': True, 'Tranylcypromine': False, 'Trastuzumab': True, 'Travoprost': False, 'Trazodone': False, 'Trepibutone': False, 'Treprostinil': False, 'Tretinoin': True, 'Triamcinolone': False, 'Triamterene': False, 'Triazolam': False, 'Tribenoside': False, 'Tricalcium phosphate': False, 'Trichloroacetic acid': False, 'Triclabendazole': True, 'Triclofos': False, 'Trientine': False, 'Trifluoperazine': False, 'Trifluridine': False, 'Triflusal': False, 'Trihexyphenidyl (Benzhexol)': False, 'Triiodothyronine': False, 'Trimebutine': False, 'Trimeperidine': False, 'Trimetazidine': False, 'Trimethaphan': False, 'Trimethoprim': True, 'Trimethylphloroglucinol': False, 'Trimipramine': False, 'Trioxsalen': False, 'Triprolidine': False, 'Tripterygium Glycosides': False, 'Triptorelin': False, 'Trisodium citrate dihydrate': True, 'Tritoqualine': False, 'Trolamine': False, 'Tromantadine': False, 'Tropatepine': False, 'Tropicamide': True, 'Tropisetron': False, 'Trospium': False, 'Troxerutin': False, 'Trypsin': False, 'Tryptophan': False, 'Tsaang gubat': False, 'Turpentine oil': False, 'Typhoid vaccine': True, 'Typhus vaccine': False, 'Tyrosine': False, 'Tyrothricin': False, 'Ulipristal': True, 'Umifenovir': False, 'Undecylenic acid': False, 'Unoprostone': False, 'Uracil': False, 'Urapidil': False, 'Urate Oxidase': False, 'Uridine': False, 'Urofollitropin': False, 'Urokinase': False, 'Ursodeoxycholic acid': False, 'Ustekinumab': False, 'Vaccinia immunoglobulin': False, 'Vaginal ring eluting etonogestrel & ethinyl estradiol': False, 'Valaciclovir (Valacyclovir)': False, 'Valdecoxib': False, 'Valethamate': False, 'Valganciclovir': True, 'Valproic acid (Sodium valproate, Valproate, Valproate semisodium)': True, 'Valpromide': False, 'Valsartan': False, 'Vanadium': False, 'Vancomycin': True, 'Vardenafil': False, 'Varenicline': False, 'Varicella Zoster Immunoglobulin': False, 'Varicella vaccine': True, 'Vasopressin (Argipressin)': False, 'Vecuronium': True, 'Vegetable charcoal': False, 'Vegetable oil': False, 'Veinotonic rutosides': False, 'Velaglucerase alfa': False, 'Velpatasvir': True, 'Venlafaxine': False, 'Verapamil': True, 'Vernakalant': False, 'Verteporfin': False, 'Vidarabine': False, 'Vigabatrin': False, 'Vilanterol': False, 'Vildagliptin': False, 'Vinblastine': True, 'Vinburnine': False, 'Vincamine': False, 'Vincristine': True, 'Vindesine (Vindesin)': False, 'Vinorelbine (Venorelbine)': True, 'Vinpocetine': False, 'Vioform': False, 'Viomycin': False, 'Virginiamycin': False, 'Vitamin A (Retinol)': True, 'Vitamin B1 (Thiamine )': True, 'Vitamin B12 (Cobalamin)': True, 'Vitamin B2 (Riboflavin)': True, 'Vitamin B3 (Niacin, Nicotinic Acid, Nicotinamide)': True, 'Vitamin B5 (Pantothenic acid)': False, 'Vitamin B6 (Pyridoxine)': True, 'Vitamin C (Ascorbic acid)': True, 'Vitamin D (Cholecalciferol, Ergocalciferol)': True, 'Vitamin E (Alpha-tocopherol)': False, 'Vitamin H (Biotin)': False, 'Vitamin K (Menadione, Phytomenadione, Phytonadione)': True, 'Voglibose': False, 'Von Willebrand factor': False, 'Voriconazole': True, 'Warfarin': True, 'White soft paraffin': False, 'Xaliproden': False, 'Xenon': False, 'Xipamide': False, 'Xylene': False, 'Xylometazoline': True, 'Yellow fever vaccine': True, 'Yohimbine': False, 'Yttrium': False, 'Zafirlukast': False, 'Zalcitabine': False, 'Zanamivir': False, 'Zeaxanthin': False, 'Zidovudine (Retrovir)': True, 'Zinc': True, 'Ziprasidone': False, 'Zofenopril': False, 'Zoledronic acid': True, 'Zolmitriptan': False, 'Zolpidem': False, 'Zonisamide': False, 'Zopiclone': False, 'Zoptepine (Zotepine)': False, 'Zuclopenthixol': False}\n"
     ]
    }
   ],
   "source": [
    "# Check that all WHO EML products were covered in previous scrape\n",
    "from selenium import webdriver\n",
    "from selenium.webdriver.common.by import By\n",
    "from selenium.webdriver.firefox.options import Options\n",
    "from selenium.webdriver.support.ui import WebDriverWait\n",
    "from selenium.webdriver.support import expected_conditions as EC\n",
    "import time\n",
    "from bs4 import BeautifulSoup\n",
    "\n",
    "# Set up headless Firefox options\n",
    "options = Options()\n",
    "options.add_argument('-headless')\n",
    "options.add_argument('--disable-notifications')\n",
    "options.add_argument('--no-sandbox')\n",
    "options.add_argument('--verbose')\n",
    "\n",
    "# Initialize constants and dictionaries\n",
    "SCROLL_HEIGHT = 38\n",
    "products_to_inclusion = {}\n",
    "\n",
    "# Generate list of URLs to be scraped\n",
    "url = \"https://global.essentialmeds.org/dashboard/medicines\"\n",
    "\n",
    "# Start the browser\n",
    "driver = webdriver.Firefox(options=options)\n",
    "wait = WebDriverWait(driver, 10)  # Initialize wait object\n",
    "\n",
    "# Open the webpage\n",
    "driver.get(url)\n",
    "\n",
    "# Locate the scrollable element\n",
    "scrollable_element = wait.until(EC.presence_of_element_located((By.CSS_SELECTOR, '.css-o6nvc9 > div:nth-child(2)')))\n",
    "\n",
    "# Scroll through the internal scrollable element to load all products\n",
    "scroll_step = SCROLL_HEIGHT*10  # Set the scroll_step equal to the height of 10 product elements\n",
    "scroll_position = 0\n",
    "all_products = set()\n",
    "\n",
    "while True:\n",
    "    # Scroll down\n",
    "    driver.execute_script(f\"arguments[0].scrollTop = {scroll_position};\", scrollable_element)\n",
    "    scroll_position += scroll_step\n",
    "    time.sleep(0.2)\n",
    "\n",
    "    # Get the page source after scrolling\n",
    "    html = driver.page_source\n",
    "\n",
    "    # Use BeautifulSoup to parse and extract the data\n",
    "    soup = BeautifulSoup(html, 'html.parser')\n",
    "    product_list = soup.select('.css-t9ct1g')\n",
    "    on_eml = soup.select('.css-7s7c1t')\n",
    "\n",
    "    # Add visible products to the consistencies set\n",
    "    current_product_count = len(all_products)\n",
    "    for i, product in enumerate(product_list):\n",
    "        product_name = product.text.strip()\n",
    "        all_products.add(product_name)\n",
    "        products_to_inclusion[product_name] = 'check' in str(on_eml[i])\n",
    "\n",
    "    # Break the loop if the product count doesn't change after scrolling\n",
    "    if len(all_products) == current_product_count:\n",
    "        break\n",
    "\n",
    "# Close the browser  \n",
    "driver.quit()"
   ]
  },
  {
   "cell_type": "code",
   "execution_count": 29,
   "id": "fe380c9c-fbf4-43a7-8c2f-8ba9a79012cb",
   "metadata": {},
   "outputs": [
    {
     "name": "stdout",
     "output_type": "stream",
     "text": [
      "Number of items in the WHO EML: 414\n"
     ]
    }
   ],
   "source": [
    "count = sum(value for value in products_to_inclusion.values() if value)\n",
    "\n",
    "print(\"Number of items in the WHO EML:\", count)"
   ]
  },
  {
   "cell_type": "code",
   "execution_count": 23,
   "id": "49e394fd-caae-498b-a0d2-4476cc6e5fa3",
   "metadata": {},
   "outputs": [
    {
     "data": {
      "text/plain": [
       "True"
      ]
     },
     "execution_count": 23,
     "metadata": {},
     "output_type": "execute_result"
    }
   ],
   "source": [
    "'check' in str(whether_on_eml_list)"
   ]
  },
  {
   "cell_type": "code",
   "execution_count": 24,
   "id": "5c489e18-f6d3-4f76-9bf5-91d714f510a0",
   "metadata": {},
   "outputs": [
    {
     "data": {
      "text/plain": [
       "[<span class=\"css-7s7c1t\"></span>,\n",
       " <span class=\"css-7s7c1t\"><img src=\"/fonts/check.svg?b5cb3b7653ef05cd1f1f7c93fa070992\"/></span>,\n",
       " <span class=\"css-7s7c1t\"></span>,\n",
       " <span class=\"css-7s7c1t\"></span>,\n",
       " <span class=\"css-7s7c1t\"></span>,\n",
       " <span class=\"css-7s7c1t\"></span>,\n",
       " <span class=\"css-7s7c1t\"></span>,\n",
       " <span class=\"css-7s7c1t\"></span>,\n",
       " <span class=\"css-7s7c1t\"></span>,\n",
       " <span class=\"css-7s7c1t\"></span>,\n",
       " <span class=\"css-7s7c1t\"></span>,\n",
       " <span class=\"css-7s7c1t\"></span>,\n",
       " <span class=\"css-7s7c1t\"></span>]"
      ]
     },
     "execution_count": 24,
     "metadata": {},
     "output_type": "execute_result"
    }
   ],
   "source": [
    "whether_on_eml_list"
   ]
  },
  {
   "cell_type": "code",
   "execution_count": 31,
   "id": "04e803f7-4341-4f2d-852b-09e70648cb7e",
   "metadata": {},
   "outputs": [
    {
     "name": "stdout",
     "output_type": "stream",
     "text": [
      "Products only in the dictionary:\n",
      "{'Pyronaridine', 'Velpatasvir'}\n",
      "Products only in the DataFrame:\n",
      "set()\n"
     ]
    }
   ],
   "source": [
    "\n",
    "\n",
    "import pandas as pd\n",
    "\n",
    "# Assuming this is your dictionary mapping products to true/false\n",
    "product_dict = products_to_inclusion\n",
    "\n",
    "# Create a set of products with True values in the dictionary\n",
    "true_products_dict = set(product for product, value in product_dict.items() if value)\n",
    "\n",
    "# Assuming this is your DataFrame\n",
    "# data\n",
    "\n",
    "# Create a set of products with a 1 in the \"WHO EML\" column\n",
    "true_products_df = set(data.loc[data['WHO EML'] == 1, 'Product'])\n",
    "\n",
    "# Compare the two sets of products\n",
    "products_only_in_dict = true_products_dict - true_products_df\n",
    "products_only_in_df = true_products_df - true_products_dict\n",
    "\n",
    "print(\"Products only in the dictionary:\")\n",
    "print(products_only_in_dict)\n",
    "\n",
    "print(\"Products only in the DataFrame:\")\n",
    "print(products_only_in_df)"
   ]
  },
  {
   "cell_type": "code",
   "execution_count": null,
   "id": "b3e2dbd0-89ec-49c4-8fb2-100162bc08a8",
   "metadata": {},
   "outputs": [],
   "source": []
  }
 ],
 "metadata": {
  "kernelspec": {
   "display_name": "Python 3 (ipykernel)",
   "language": "python",
   "name": "python3"
  },
  "language_info": {
   "codemirror_mode": {
    "name": "ipython",
    "version": 3
   },
   "file_extension": ".py",
   "mimetype": "text/x-python",
   "name": "python",
   "nbconvert_exporter": "python",
   "pygments_lexer": "ipython3",
   "version": "3.9.7"
  }
 },
 "nbformat": 4,
 "nbformat_minor": 5
}
