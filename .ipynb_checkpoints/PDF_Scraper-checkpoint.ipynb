{
 "cells": [
  {
   "cell_type": "code",
   "execution_count": 4,
   "id": "2e09ef98-5030-4d32-bd3f-0010e7276b1c",
   "metadata": {},
   "outputs": [
    {
     "name": "stdout",
     "output_type": "stream",
     "text": [
      "Collecting PyMuPDF\n",
      "  Downloading PyMuPDF-1.21.1-cp39-cp39-macosx_10_9_x86_64.whl (12.7 MB)\n",
      "\u001b[K     |████████████████████████████████| 12.7 MB 23.4 MB/s eta 0:00:01\n",
      "\u001b[?25hInstalling collected packages: PyMuPDF\n",
      "Successfully installed PyMuPDF-1.21.1\n"
     ]
    }
   ],
   "source": [
    "import sys\n",
    "!{sys.executable} -m pip install PyMuPDF"
   ]
  },
  {
   "cell_type": "code",
   "execution_count": 29,
   "id": "c6cd26bf-dd4e-44a6-bd5e-718ceb9ffe4a",
   "metadata": {},
   "outputs": [
    {
     "name": "stdout",
     "output_type": "stream",
     "text": [
      "Core items:\n",
      "{'artemether', 'dextran 70', 'tick-borne encephalitis vaccine', 'suramin sodium', 'penicillamine', 'acetylcysteine', 'measles vaccine', 'oral rehydration salts', 'levonorgestrel-releasing intrauterine system', 'benzathine benzylpenicillin', 'caffeine citrate', 'atropine', 'ofloxacin', 'enalapril', 'amlodipine', 'dexamethasone', 'triclabendazole', 'antitetanus immunoglobulin', 'niclosamide', 'mupirocin', 'mefloquine', 'ulipristal', 'voriconazole', 'ergometrine', 'darunavir', 'carbamazepine', 'proguanil', 'rubella vaccine', 'sulfasalazine', 'entecavir', 'ethanol', 'natamycin', 'phenobarbital', 'ivermectin', 'ondansetron', 'amiloride', 'docusate sodium', 'anti-D immunoglobulin', 'acetic acid', 'hydroxocobalamin', 'melarsoprol', 'levamisole', 'glucose with sodium chloride', 'vancomycin', 'atazanavir', 'ascorbic acid', 'pyridoxine', 'clindamycin', 'furosemide', 'poliomyelitis vaccine', 'ribavirin', 'tropicamide', 'sodium stibogluconate or meglumine antimoniate', 'ampicillin', 'amodiaquine', 'chlorpromazine', 'lactulose', 'mannitol', 'azithromycin', 'glucagon', 'yellow fever vaccine', 'albendazole', 'copper-containing device', 'desmopressin', 'latanoprost)', 'levonorgestrel-releasing implant', 'nitrous oxide', 'sodium thiosulfate', 'all-trans retinoic acid (ATRA)', 'prednisolone', 'ipratropium bromide', 'verapamil', 'enoxaparin', 'benzyl benzoate', 'budesonide', 'oxygen', 'amikacin', 'propylthiouracil', 'sodium lactate', 'alcohol based hand rub', 'glutaral', 'cholera vaccine', 'tuberculin', 'valganciclovir', 'potassium ferric hexacyano-ferrate(II) -2H20 (Prussian blue) 4', 'sodium hydrogen carbonate', 'benzoyl peroxide', 'paracetamol', 'raltegravir', 'morphine', 'lamotrigine', 'ranitidine', 'clofazimine', 'Japanese encephalitis vaccine', 'pneumococcal vaccine', 'progesterone vaginal ring', 'BCG vaccine', 'isoflurane', 'pyrimethamine', 'heparin sodium', 'water for injection', 'artesunate', 'clomipramine', 'phytomenadione', 'loperamide', 'pyrantel', 'permethrin', 'sofosbuvir', 'influenza vaccine', 'risperidone', 'urea', 'griseofulvin', 'quinine', 'rifabutin', 'ketamine', 'bisoprolol', 'zinc sulfate', 'erythromycin', 'atracurium', 'nifurtimox', 'cyclizine', 'calcium', 'loratadine', 'levonorgestrel', 'haloperidol', 'methyldopa', 'methylthioninium chloride (methylene blue)', 'propranolol', 'omeprazole', 'chloramphenicol', 'nicotine replacement therapy (NRT)', 'sodium nitrite', 'lidocaine', 'mumps vaccine', 'nicotinamide', 'podophyllum resin', 'diaphragms', 'typhoid vaccine', 'paromomycin', 'charcoal', 'lamivudine (3TC)', 'miltefosine', 'epinephrine (adrenaline)', 'spironolactone', 'protamine sulfate', 'diethylcarbamazine', 'simvastatin', 'chlorine base compound', 'packed red blood cells', 'amoxicillin', 'etonogestrel-releasing implant', 'acetazolamide', 'diphtheria vaccine', 'dolutegravir', 'xylometazoline', 'benzylpenicillin', 'cloxacillin', 'efavirenz (EFV or EFZ)', 'ibuprofen', 'nystatin', 'senna', 'cefalexin', 'dapsone', 'norethisterone enantate', 'fluoxetine', 'aciclovir', 'fluorescein', 'miconazole', 'hyoscine hydrobromide', 'activated', 'antivenom immunoglobulin', 'intermediate-acting insulin', 'primaquine', 'metformin', 'nifedipine', 'propofol', 'losartan', 'colecalciferol', 'spectinomycin', 'folic acid', 'phenytoin', 'salicylic acid', 'simeprevir', 'varicella vaccine', 'eflornithine', 'misoprostol', 'medroxyprogesterone acetate', 'naloxone', 'halothane', 'warfarin', 'cefotaxime', 'glyceryl trinitrate', 'hyoscine butylbromide', 'benznidazole', 'hydralazine', 'salbutamol', 'sulfadiazine', 'platelet concentrates', 'pyrazinamide', 'ferrous salt', 'tetracycline', 'timolol', 'neostigmine', 'glucose', 'Haemophilus influenzae type b vaccine', 'tetracaine', 'fludrocortisone', 'meningococcal meningitis vaccine', 'condoms', 'chlorhexidine', 'purified protein derivative (PPD)', 'valproic acid (sodium valproate)', 'fresh frozen plasma', 'hepatitis B vaccine', 'gliclazide', 'rabies vaccine', 'chloroxylenol', 'diazepam', 'acetylsalicylic acid', 'amidotrizoate', 'procaine benzylpenicillin', 'cefazolin', 'rifapentine', 'suxamethonium', 'chloroquine', 'sodium fluoride', 'tenofovir disoproxil fumarate', 'isosorbide dinitrate', 'mebendazole', 'nevirapine (NVP)', 'ceftriaxone', 'riboflavin', 'calamine', 'abacavir (ABC)', 'pilocarpine', 'povidone iodine', 'betamethasone', 'calcium gluconate', 'pertussis vaccine', 'sodium chloride', 'tranexamic acid', 'amphotericin B', 'diloxanide', 'oxytocin', 'magnesium sulfate', 'bupivacaine', 'codeine', 'diphtheria antitoxin', 'dasabuvir', 'amitriptyline', 'ritonavir', 'selenium sulfide', 'barium sulfate', 'potassium permanganate', 'rabies immunoglobulin', 'rotavirus vaccine', 'clarithromycin', 'ergocalciferol', 'ciprofloxacin', 'hepatitis A vaccine', 'clotrimazole', 'whole blood', 'nitrofurantoin', 'midazolam', 'hydrocortisone', 'itraconazole', 'ethambutol', 'coal tar', 'tetanus vaccine', 'terbinafine', 'lorazepam', 'potassium chloride', 'isoniazid', 'lithium carbonate', 'cefixime', 'iohexol', 'levothyroxine', 'fluconazole', 'praziquantel', 'daclatasvir', 'hydrochlorothiazide', 'silver sulfadiazine', 'thiamine', 'fluphenazine', 'vecuronium', 'zidovudine (ZDV or AZT)', 'beclometasone', 'HPV vaccine', 'gentamicin', 'metronidazole', 'metoclopramide', 'digoxin', 'doxycycline', 'insulin injection (soluble)', 'fentanyl', 'retinol', 'biperiden', 'clopidogrel', 'phenoxymethylpenicillin', 'rifampicin', 'flucytosine'}\n",
      "\n",
      "Complementary items:\n",
      "{'fomepizole', 'p-aminosalicylic acid', 'dopamine', 'ceftazidime', 'oxamniquine', 'surfactant', 'fluorouracil', 'bleomycin', 'bevacizumab', 'pentamidine', 'gemcitabine', 'oseltamivir', 'cyclophosphamide', 'mercaptopurine', 'cisplatin', 'colistin', 'dasatinib', 'vinblastine', 'cycloserine', 'methadone', 'rituximab', 'oxazolindinones', 'trastuzumab', 'chlorpromazine', 'levofloxacin', 'moxifloxacin', 'clozapine', 'thioguanine', 'ethosuximide', 'oxaliplatin', 'fourth generation cephalosporins', 'daunorubicin', 'chlorambucil', 'delamanid', 'potassium iodide', 'streptomycin', 'dacarbazine', 'succimer', 'docetaxel', 'ephedrine', 'fludarabine', 'intraperitoneal dialysis solution (of appropriate composition)', 'sodium calcium edetate', 'clomifene', 'tigecycline', 'hydroxychloroquine', 'streptokinase', 'leuprorelin', \"Lugol's solution\", 'deferoxamine', 'hydroxycarbamide', 'procarbazine', 'allopurinol', 'ethionamide', 'etoposide', 'mesna', 'tamoxifen', 'methotrexate', 'cefepime', 'prostaglandin E', 'kanamycin', 'asparaginase', 'aztreonam', 'ciclosporin', 'coagulation factor IX', 'erythropoiesis-stimulating agents', 'nilotinib', 'dimercaprol', 'fifth generation cephalosporins', 'zoledronic acid', 'daptomycin', 'pegylated interferon alfa 2a', 'irinotecan', 'capecitabine', 'ceftaroline', 'imatinib', 'normal immunoglobulin', 'cytarabine', 'bedaquiline', 'sodium nitroprusside', 'vinorelbine', 'bicalutamide', 'pancreatic enzymes', 'pyridostigmine', 'capreomycin', 'filgrastim', 'fosfomycin', 'mifepristone', 'paclitaxel', 'amiodarone', 'methylprednisolone', 'coagulation factor VIII', 'bendamustine', 'calcium folinate', 'vincristine', 'linezolid', 'meropenem', 'testosterone', 'ifosfamide', 'meglumine iotroxate', 'polymyxins', 'carboplatin', 'azathioprine', 'dactinomycin', 'doxorubicin'}\n",
      "\n",
      "Combined split items:\n",
      "{'formoterol', 'piperacillin', 'ombitasvir', 'sofosbovir', 'sulfadoxine', 'ritonavir (LPV/r)', 'estradiol cypionate', 'lumefantrine', 'pyronaridine tetraphosphate', 'abacavir', 'velpatasvir', 'dihydroartemisinin', 'emtricitabine', 'ethinylestradiol', 'efavirenz', 'lamivudine', 'piperaquine phosphate', 'trimethoprim', 'carbidopa', 'trimethoprim 21', 'sulfamethoxazole', 'lopinavir', 'tenofovir', 'paritaprevir', 'tazobactam', 'norethisterone', 'levodopa', 'clavulanic acid', 'ledipasvir', 'zidovudine', 'nevirapine'}\n"
     ]
    }
   ],
   "source": [
    "import re\n",
    "from pdfminer.high_level import extract_pages\n",
    "from pdfminer.layout import LTTextContainer, LTChar\n",
    "import fitz\n",
    "\n",
    "def process_pdf(file_path, start_page, end_page):\n",
    "    core_items = set()\n",
    "    complementary_items = set()\n",
    "    combined_items = set()\n",
    "\n",
    "    doc = fitz.open(file_path)\n",
    "    for page_num in range(start_page, end_page + 1):\n",
    "        page = doc[page_num]\n",
    "        blocks = page.get_text(\"dict\")[\"blocks\"]\n",
    "\n",
    "        for block in blocks:\n",
    "            if \"lines\" in block:\n",
    "                for line in block[\"lines\"]:\n",
    "                    line_items = []\n",
    "                    for span in line[\"spans\"]:\n",
    "                        text = span[\"text\"]\n",
    "                        if \"Times New Roman\" not in span[\"font\"]:\n",
    "                            continue\n",
    "                        if \"Italic\" in span[\"font\"]:\n",
    "                            text = f\"<i>{text}</i>\"\n",
    "                        line_items.append(text)\n",
    "\n",
    "                    buffer = \"\".join(line_items)\n",
    "                    items = re.findall(r'((?:<i>[^<]*</i>|[^<\\s,][^,]*[^<\\s,]))', buffer)\n",
    "                    for item in items:\n",
    "                        if \"<i>\" in item:\n",
    "                            item = item.replace(\"<i>\", \"\").replace(\"</i>\", \"\").strip()\n",
    "                            if item and item != '+':\n",
    "                                complementary_items.add(item)\n",
    "                        elif \"+\" not in item:\n",
    "                            item = item.strip()\n",
    "                            if item and item != '+' and not item.isdigit():\n",
    "                                core_items.add(item)\n",
    "                        elif item.strip() != '+':\n",
    "                            combined_items.add(item.strip())\n",
    "\n",
    "    combined_split_items = set()\n",
    "    for combined_item in combined_items:\n",
    "        items = combined_item.split(\" + \")\n",
    "        for item in items:\n",
    "            if item not in core_items and item not in complementary_items and item != '+':\n",
    "                combined_split_items.add(item.strip())\n",
    "\n",
    "    return core_items, complementary_items, combined_split_items\n",
    "\n",
    "file_path = \"EML-20-eng.pdf\"\n",
    "start_page, end_page = 58, 61  # Assuming 0-based page indexing\n",
    "core_items, complementary_items, combined_split_items = process_pdf(file_path, start_page, end_page)\n",
    "\n",
    "print(\"Core items:\")\n",
    "print(core_items)\n",
    "print(\"\\nComplementary items:\")\n",
    "print(complementary_items)\n",
    "print(\"\\nCombined split items:\")\n",
    "print(combined_split_items)"
   ]
  },
  {
   "cell_type": "code",
   "execution_count": 32,
   "id": "aaeb5d25-11a0-4e10-b5a4-2f0f6c5af08e",
   "metadata": {},
   "outputs": [
    {
     "name": "stdout",
     "output_type": "stream",
     "text": [
      "301\n",
      "105\n",
      "31\n"
     ]
    }
   ],
   "source": [
    "print(len(core_items))\n",
    "print(len(complementary_items))\n",
    "print(len(combined_split_items))"
   ]
  }
 ],
 "metadata": {
  "kernelspec": {
   "display_name": "Python 3 (ipykernel)",
   "language": "python",
   "name": "python3"
  },
  "language_info": {
   "codemirror_mode": {
    "name": "ipython",
    "version": 3
   },
   "file_extension": ".py",
   "mimetype": "text/x-python",
   "name": "python",
   "nbconvert_exporter": "python",
   "pygments_lexer": "ipython3",
   "version": "3.9.7"
  }
 },
 "nbformat": 4,
 "nbformat_minor": 5
}
